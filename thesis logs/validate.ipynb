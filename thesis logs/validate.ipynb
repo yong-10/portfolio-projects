{
 "cells": [
  {
   "cell_type": "code",
   "execution_count": 1,
   "metadata": {},
   "outputs": [],
   "source": [
    "from PIL import Image\n",
    "from tensorflow.keras.models import Model\n",
    "from tensorflow.keras.layers import Input, Conv2D, MaxPooling2D, UpSampling2D\n",
    "from tensorflow.keras.optimizers import Adam\n",
    "from tensorflow.keras.preprocessing.image import ImageDataGenerator, img_to_array, load_img\n",
    "from tensorflow.keras.models import load_model\n",
    "import numpy as np\n",
    "import tensorflow as tf\n",
    "import matplotlib.pyplot as plt"
   ]
  },
  {
   "cell_type": "code",
   "execution_count": 35,
   "metadata": {},
   "outputs": [
    {
     "name": "stdout",
     "output_type": "stream",
     "text": [
      "Found 15 images belonging to 1 classes.\n",
      "Found 15 images belonging to 1 classes.\n"
     ]
    }
   ],
   "source": [
    "#load trained model\n",
    "autoencoder = load_model('0423.keras')\n",
    "\n",
    "height, width, channels = 372, 1244, 1  #input image format\n",
    "input_img = Input(shape=(height, width, channels))\n",
    "#print(input_img)\n",
    "\n",
    "def preprocess_image(image):\n",
    "    #resize image so they're same format\n",
    "    image = tf.image.resize(image, (height, width), method='lanczos5')\n",
    "    return image\n",
    "\n",
    "datagen = ImageDataGenerator(\n",
    "    #normalize image so values are 0>= and <=1\n",
    "    rescale=1./255,\n",
    "    preprocessing_function=preprocess_image\n",
    ")\n",
    "validate_normal = datagen.flow_from_directory(\n",
    "    'thesis/validateNormal',  #path to dataset\n",
    "    target_size=(height, width),\n",
    "    color_mode='grayscale',\n",
    "    batch_size=32,\n",
    "    class_mode='input',\n",
    "    shuffle = False\n",
    ")\n",
    "validate_anomalous = datagen.flow_from_directory(\n",
    "    'thesis/validateAnomalous',  #path to dataset\n",
    "    target_size=(height, width),\n",
    "    color_mode='grayscale',\n",
    "    batch_size=32,\n",
    "    class_mode='input',\n",
    "    shuffle = False\n",
    ")"
   ]
  },
  {
   "cell_type": "code",
   "execution_count": 7,
   "metadata": {},
   "outputs": [
    {
     "ename": "ValueError",
     "evalue": "Input 0 of layer \"functional_1\" is incompatible with the layer: expected shape=(None, 372, 1244, 1), found shape=(15, 376, 1248)",
     "output_type": "error",
     "traceback": [
      "\u001b[0;31m---------------------------------------------------------------------------\u001b[0m",
      "\u001b[0;31mValueError\u001b[0m                                Traceback (most recent call last)",
      "Cell \u001b[0;32mIn[7], line 1\u001b[0m\n\u001b[0;32m----> 1\u001b[0m normal_reconstructions \u001b[38;5;241m=\u001b[39m \u001b[43mautoencoder\u001b[49m\u001b[38;5;241;43m.\u001b[39;49m\u001b[43mpredict\u001b[49m\u001b[43m(\u001b[49m\u001b[43mvalidate_normal\u001b[49m\u001b[43m,\u001b[49m\u001b[43m \u001b[49m\u001b[43msteps\u001b[49m\u001b[38;5;241;43m=\u001b[39;49m\u001b[38;5;28;43mlen\u001b[39;49m\u001b[43m(\u001b[49m\u001b[43mvalidate_normal\u001b[49m\u001b[43m)\u001b[49m\u001b[43m)\u001b[49m\n\u001b[1;32m      2\u001b[0m anomalous_reconstructions \u001b[38;5;241m=\u001b[39m autoencoder\u001b[38;5;241m.\u001b[39mpredict(validate_anomalous, steps\u001b[38;5;241m=\u001b[39m\u001b[38;5;28mlen\u001b[39m(validate_anomalous))\n",
      "File \u001b[0;32m~/anaconda3/envs/plard/lib/python3.10/site-packages/keras/src/utils/traceback_utils.py:122\u001b[0m, in \u001b[0;36mfilter_traceback.<locals>.error_handler\u001b[0;34m(*args, **kwargs)\u001b[0m\n\u001b[1;32m    119\u001b[0m     filtered_tb \u001b[38;5;241m=\u001b[39m _process_traceback_frames(e\u001b[38;5;241m.\u001b[39m__traceback__)\n\u001b[1;32m    120\u001b[0m     \u001b[38;5;66;03m# To get the full stack trace, call:\u001b[39;00m\n\u001b[1;32m    121\u001b[0m     \u001b[38;5;66;03m# `keras.config.disable_traceback_filtering()`\u001b[39;00m\n\u001b[0;32m--> 122\u001b[0m     \u001b[38;5;28;01mraise\u001b[39;00m e\u001b[38;5;241m.\u001b[39mwith_traceback(filtered_tb) \u001b[38;5;28;01mfrom\u001b[39;00m \u001b[38;5;28;01mNone\u001b[39;00m\n\u001b[1;32m    123\u001b[0m \u001b[38;5;28;01mfinally\u001b[39;00m:\n\u001b[1;32m    124\u001b[0m     \u001b[38;5;28;01mdel\u001b[39;00m filtered_tb\n",
      "File \u001b[0;32m~/anaconda3/envs/plard/lib/python3.10/site-packages/keras/src/layers/input_spec.py:245\u001b[0m, in \u001b[0;36massert_input_compatibility\u001b[0;34m(input_spec, inputs, layer_name)\u001b[0m\n\u001b[1;32m    243\u001b[0m \u001b[38;5;28;01mif\u001b[39;00m spec_dim \u001b[38;5;129;01mis\u001b[39;00m \u001b[38;5;129;01mnot\u001b[39;00m \u001b[38;5;28;01mNone\u001b[39;00m \u001b[38;5;129;01mand\u001b[39;00m dim \u001b[38;5;129;01mis\u001b[39;00m \u001b[38;5;129;01mnot\u001b[39;00m \u001b[38;5;28;01mNone\u001b[39;00m:\n\u001b[1;32m    244\u001b[0m     \u001b[38;5;28;01mif\u001b[39;00m spec_dim \u001b[38;5;241m!=\u001b[39m dim:\n\u001b[0;32m--> 245\u001b[0m         \u001b[38;5;28;01mraise\u001b[39;00m \u001b[38;5;167;01mValueError\u001b[39;00m(\n\u001b[1;32m    246\u001b[0m             \u001b[38;5;124mf\u001b[39m\u001b[38;5;124m'\u001b[39m\u001b[38;5;124mInput \u001b[39m\u001b[38;5;132;01m{\u001b[39;00minput_index\u001b[38;5;132;01m}\u001b[39;00m\u001b[38;5;124m of layer \u001b[39m\u001b[38;5;124m\"\u001b[39m\u001b[38;5;132;01m{\u001b[39;00mlayer_name\u001b[38;5;132;01m}\u001b[39;00m\u001b[38;5;124m\"\u001b[39m\u001b[38;5;124m is \u001b[39m\u001b[38;5;124m'\u001b[39m\n\u001b[1;32m    247\u001b[0m             \u001b[38;5;124m\"\u001b[39m\u001b[38;5;124mincompatible with the layer: \u001b[39m\u001b[38;5;124m\"\u001b[39m\n\u001b[1;32m    248\u001b[0m             \u001b[38;5;124mf\u001b[39m\u001b[38;5;124m\"\u001b[39m\u001b[38;5;124mexpected shape=\u001b[39m\u001b[38;5;132;01m{\u001b[39;00mspec\u001b[38;5;241m.\u001b[39mshape\u001b[38;5;132;01m}\u001b[39;00m\u001b[38;5;124m, \u001b[39m\u001b[38;5;124m\"\u001b[39m\n\u001b[1;32m    249\u001b[0m             \u001b[38;5;124mf\u001b[39m\u001b[38;5;124m\"\u001b[39m\u001b[38;5;124mfound shape=\u001b[39m\u001b[38;5;132;01m{\u001b[39;00mshape\u001b[38;5;132;01m}\u001b[39;00m\u001b[38;5;124m\"\u001b[39m\n\u001b[1;32m    250\u001b[0m         )\n",
      "\u001b[0;31mValueError\u001b[0m: Input 0 of layer \"functional_1\" is incompatible with the layer: expected shape=(None, 372, 1244, 1), found shape=(15, 376, 1248)"
     ]
    }
   ],
   "source": [
    "normal_reconstructions = autoencoder.predict(validate_normal, steps=len(validate_normal))\n",
    "anomalous_reconstructions = autoencoder.predict(validate_anomalous, steps=len(validate_anomalous))"
   ]
  },
  {
   "cell_type": "code",
   "execution_count": 4,
   "metadata": {},
   "outputs": [
    {
     "name": "stdout",
     "output_type": "stream",
     "text": [
      "\u001b[1m1/1\u001b[0m \u001b[32m━━━━━━━━━━━━━━━━━━━━\u001b[0m\u001b[37m\u001b[0m \u001b[1m1s\u001b[0m 1s/step\n",
      "\u001b[1m1/1\u001b[0m \u001b[32m━━━━━━━━━━━━━━━━━━━━\u001b[0m\u001b[37m\u001b[0m \u001b[1m1s\u001b[0m 844ms/step\n"
     ]
    },
    {
     "data": {
      "image/png": "[encoded data removed]",
      "text/plain": [
       "<Figure size 640x480 with 1 Axes>"
      ]
     },
     "metadata": {},
     "output_type": "display_data"
    }
   ],
   "source": [
    "#function to calculate BCE\n",
    "def bce_loss(original, reconstruction):\n",
    "    epsilon = 1e-10\n",
    "    original = np.clip(original, epsilon, 1. - epsilon)\n",
    "    reconstruction = np.clip(reconstruction, epsilon, 1. - epsilon)\n",
    "    bce = -np.mean(original * np.log(reconstruction) + (1. - original) * np.log(1. - reconstruction))\n",
    "    return bce\n",
    "\n",
    "def calculate_bce_values(model, test_generator):\n",
    "\n",
    "    # Initialize BCE values array\n",
    "    bce_values = []\n",
    "\n",
    "    # Get predictions for the test images\n",
    "    predicted_images = model.predict(test_generator, steps=len(test_generator))\n",
    "\n",
    "    # Reset generator for consistent image fetching\n",
    "    test_generator.reset()\n",
    "    count = 0\n",
    "\n",
    "    for original_batch, _ in test_generator:\n",
    "        for j in range(original_batch.shape[0]):\n",
    "            if count >= 15:\n",
    "                break\n",
    "\n",
    "            original_img = original_batch[j]\n",
    "            predicted_img = predicted_images[count]\n",
    "\n",
    "            # Calculate BCE and store it\n",
    "            loss = bce_loss(original_img, predicted_img)\n",
    "            bce_values.append(loss)\n",
    "\n",
    "            count += 1\n",
    "        if count >= 15:\n",
    "            break\n",
    "\n",
    "    return bce_values\n",
    "\n",
    "bce_normal = calculate_bce_values(autoencoder, validate_normal)\n",
    "bce_anomalous = calculate_bce_values(autoencoder,validate_anomalous)\n",
    "# Now plot\n",
    "plt.hist(bce_normal, bins=5, alpha=0.7, label='Normal')\n",
    "plt.hist(bce_anomalous, bins=5, alpha=0.7, label='Anomalous')\n",
    "plt.xlabel('Binary Cross-Entropy (BCE)')\n",
    "plt.ylabel('Frequency')\n",
    "plt.legend()\n",
    "plt.title('Distribution of BCE Errors')\n",
    "plt.show()\n"
   ]
  },
  {
   "cell_type": "code",
   "execution_count": 36,
   "metadata": {},
   "outputs": [
    {
     "name": "stdout",
     "output_type": "stream",
     "text": [
      "\u001b[1m1/1\u001b[0m \u001b[32m━━━━━━━━━━━━━━━━━━━━\u001b[0m\u001b[37m\u001b[0m \u001b[1m1s\u001b[0m 1s/step\n",
      "\u001b[1m1/1\u001b[0m \u001b[32m━━━━━━━━━━━━━━━━━━━━\u001b[0m\u001b[37m\u001b[0m \u001b[1m1s\u001b[0m 680ms/step\n"
     ]
    },
    {
     "data": {
      "image/png": "[encoded data removed]",
      "text/plain": [
       "<Figure size 640x480 with 2 Axes>"
      ]
     },
     "metadata": {},
     "output_type": "display_data"
    }
   ],
   "source": [
    "#function to calculate MSE\n",
    "def mse_loss(original, reconstruction):\n",
    "    return np.mean(np.square(original - reconstruction))\n",
    "\n",
    "def calculate_mse_values(model, test_generator):\n",
    "\n",
    "    # Initialize BCE values array\n",
    "    bce_values = []\n",
    "\n",
    "    # Get predictions for the test images\n",
    "    predicted_images = model.predict(test_generator, steps=len(test_generator))\n",
    "\n",
    "    # Reset generator for consistent image fetching\n",
    "    test_generator.reset()\n",
    "    count = 0\n",
    "\n",
    "    for original_batch, _ in test_generator:\n",
    "        for j in range(original_batch.shape[0]):\n",
    "            if count >= 15:\n",
    "                break\n",
    "\n",
    "            original_img = original_batch[j]\n",
    "            predicted_img = predicted_images[count]\n",
    "\n",
    "            # Calculate BCE and store it\n",
    "            loss = mse_loss(original_img, predicted_img)\n",
    "            bce_values.append(loss)\n",
    "\n",
    "            count += 1\n",
    "        if count >= 15:\n",
    "            break\n",
    "\n",
    "    return bce_values\n",
    "\n",
    "mse_normal = calculate_mse_values(autoencoder, validate_normal)\n",
    "mse_anomalous = calculate_mse_values(autoencoder,validate_anomalous)\n",
    "\n",
    "# First histogram for Normal\n",
    "plt.subplot(1, 2, 1)  # 1 row, 2 columns, first subplot\n",
    "plt.hist(mse_normal, bins=20, alpha=0.7, label='Normal')\n",
    "plt.xlabel('Mean Squared Error (MSE)')\n",
    "plt.ylabel('Frequency')\n",
    "plt.title('Distribution of MSE')\n",
    "plt.legend()\n",
    "\n",
    "# Second histogram for Anomalous\n",
    "plt.subplot(1, 2, 2)  # 1 row, 2 columns, second subplot\n",
    "plt.hist(mse_anomalous, bins=20, alpha=0.7, label='Anomalous')\n",
    "plt.xlabel('Mean Squared Error (MSE)')\n",
    "plt.ylabel('Frequency')\n",
    "plt.title('Distribution of MSE')\n",
    "plt.legend()\n",
    "\n",
    "\n",
    "plt.show()\n"
   ]
  },
  {
   "cell_type": "code",
   "execution_count": 5,
   "metadata": {},
   "outputs": [
    {
     "name": "stdout",
     "output_type": "stream",
     "text": [
      "[0.0044153905, 0.0010753114, 0.002933873, 0.00080950075, 0.0008575118, 0.0034981128, 0.0010280458, 0.0008033748, 0.001966564, 0.0043371646, 0.00060933176, 0.0008826702, 0.0009407333, 0.00077939255, 0.0009860393]\n",
      "[0.0006920122, 0.00064920454, 0.00061621604, 0.00062199205, 0.00069465477, 0.0039590597, 0.0009054967, 0.0008129923, 0.0006606337, 0.00067816325, 0.0005931485, 0.0005700597, 0.0012415702, 0.0016305657, 0.0007461544]\n"
     ]
    }
   ],
   "source": [
    "print(mse_anomalous)\n",
    "print(mse_normal)"
   ]
  },
  {
   "cell_type": "code",
   "execution_count": 37,
   "metadata": {},
   "outputs": [
    {
     "name": "stdout",
     "output_type": "stream",
     "text": [
      "0.01644296367885545\n",
      "0.010906164941843599\n",
      "0.00553679873701185\n"
     ]
    }
   ],
   "source": [
    "print(sum(mse_anomalous))\n",
    "print(sum(mse_normal))\n",
    "print(sum(mse_anomalous)-sum(mse_normal))"
   ]
  },
  {
   "cell_type": "code",
   "execution_count": 38,
   "metadata": {},
   "outputs": [
    {
     "name": "stdout",
     "output_type": "stream",
     "text": [
      "Calculated Threshold: 0.0010622616682667285\n"
     ]
    }
   ],
   "source": [
    "# Compute the mean and standard deviation of the BCE values\n",
    "mean_bce_normal = np.mean(mse_normal)\n",
    "std_bce_normal = np.std(mse_normal)\n",
    "\n",
    "# Calculate the threshold as mean + 2 * standard deviation\n",
    "threshold = mean_bce_normal + 1 * std_bce_normal\n",
    "\n",
    "print(f\"Calculated Threshold: {threshold}\")\n"
   ]
  }
 ],
 "metadata": {
  "kernelspec": {
   "display_name": "plard",
   "language": "python",
   "name": "python3"
  },
  "language_info": {
   "codemirror_mode": {
    "name": "ipython",
    "version": 3
   },
   "file_extension": ".py",
   "mimetype": "text/x-python",
   "name": "python",
   "nbconvert_exporter": "python",
   "pygments_lexer": "ipython3",
   "version": "3.10.13"
  }
 },
 "nbformat": 4,
 "nbformat_minor": 2
}
